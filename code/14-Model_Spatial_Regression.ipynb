{
 "cells": [
  {
   "cell_type": "markdown",
   "metadata": {},
   "source": [
    "# Model Spatial Regression"
   ]
  },
  {
   "cell_type": "code",
   "execution_count": 1,
   "metadata": {},
   "outputs": [],
   "source": [
    "import pandas as pd\n",
    "import numpy as np\n",
    "import csv"
   ]
  },
  {
   "cell_type": "markdown",
   "metadata": {},
   "source": [
    "#### Librerias específicas para la Autocorrelación espacial con Pysal"
   ]
  },
  {
   "cell_type": "code",
   "execution_count": 2,
   "metadata": {},
   "outputs": [],
   "source": [
    "#For Spatial Correlation\n",
    "# !pip install pysal\n",
    "#http://pysal.readthedocs.io/en/latest/\n",
    "import pysal as ps\n",
    "from pysal.spreg import ols\n",
    "from pysal.spreg import ml_error\n",
    "from pysal.spreg import ml_lag"
   ]
  },
  {
   "cell_type": "markdown",
   "metadata": {},
   "source": [
    "Recogemos el CSV procedente del Modelo Knn-vecinos con la variable Contaminante categórica codificada"
   ]
  },
  {
   "cell_type": "code",
   "execution_count": 3,
   "metadata": {},
   "outputs": [],
   "source": [
    "csv_path_geom = '../data/csv/model_csv/df_model_geom_encoding.csv' #Recogemos el df Con geometrias para leer con geopandas\n",
    "shp_path = '../data/shapes/Deaths/Deaths2015.shp'"
   ]
  },
  {
   "cell_type": "code",
   "execution_count": 4,
   "metadata": {
    "scrolled": true
   },
   "outputs": [],
   "source": [
    "#gdf = gpd.read_file(shp_path)\n",
    "df = pd.read_csv(csv_path_geom, sep=';', encoding = 'utf-8', compression='gzip', index_col=False)"
   ]
  },
  {
   "cell_type": "code",
   "execution_count": 5,
   "metadata": {},
   "outputs": [],
   "source": [
    "df.drop(['Unnamed: 0'], axis=1, inplace=True) #Borramos columnas innecesarias"
   ]
  },
  {
   "cell_type": "code",
   "execution_count": 6,
   "metadata": {},
   "outputs": [],
   "source": [
    "pd.options.display.max_columns = None"
   ]
  },
  {
   "cell_type": "code",
   "execution_count": 7,
   "metadata": {},
   "outputs": [
    {
     "data": {
      "text/plain": [
       "Index(['target', 'Sexo', 'AnioCumplidos', 'TamanioMuniResi',\n",
       "       'total_anios_Expo_Id', 'Total_Kg_expo', 'Distance', 'geometry_death',\n",
       "       'Latitud', 'Longitud', 'Habitantes', 'LatitudE', 'LongitudE',\n",
       "       'Cont_Dióxido de carbono (CO2)', 'Cont_Partículas (PM10)'],\n",
       "      dtype='object')"
      ]
     },
     "execution_count": 7,
     "metadata": {},
     "output_type": "execute_result"
    }
   ],
   "source": [
    "df.columns"
   ]
  },
  {
   "cell_type": "markdown",
   "metadata": {},
   "source": [
    "Observamos que todas las variables son numéricas pero habrá que escalar estas"
   ]
  },
  {
   "cell_type": "code",
   "execution_count": 8,
   "metadata": {},
   "outputs": [
    {
     "data": {
      "text/plain": [
       "target                             int64\n",
       "Sexo                               int64\n",
       "AnioCumplidos                      int64\n",
       "TamanioMuniResi                    int64\n",
       "total_anios_Expo_Id                int64\n",
       "Total_Kg_expo                    float64\n",
       "Distance                           int64\n",
       "geometry_death                    object\n",
       "Latitud                          float64\n",
       "Longitud                         float64\n",
       "Habitantes                         int64\n",
       "LatitudE                         float64\n",
       "LongitudE                        float64\n",
       "Cont_Dióxido de carbono (CO2)      int64\n",
       "Cont_Partículas (PM10)             int64\n",
       "dtype: object"
      ]
     },
     "execution_count": 8,
     "metadata": {},
     "output_type": "execute_result"
    }
   ],
   "source": [
    "df.dtypes"
   ]
  },
  {
   "cell_type": "markdown",
   "metadata": {},
   "source": [
    "Por conveniencia"
   ]
  },
  {
   "cell_type": "code",
   "execution_count": 9,
   "metadata": {},
   "outputs": [],
   "source": [
    "df.rename(columns={'Cont_Dióxido de carbono (CO2)':'CO2_event'}, inplace=True)\n",
    "df.rename(columns={'Cont_Partículas (PM10)':'PM10_event'}, inplace=True)"
   ]
  },
  {
   "cell_type": "markdown",
   "metadata": {},
   "source": [
    "#### Pre-processing: Feature Scaling "
   ]
  },
  {
   "cell_type": "code",
   "execution_count": 10,
   "metadata": {},
   "outputs": [],
   "source": [
    "from sklearn.preprocessing import StandardScaler\n",
    "\n",
    "#Standarization de columnas importantes\n",
    "columnas = ['AnioCumplidos', 'TamanioMuniResi', 'total_anios_Expo_Id', 'Total_Kg_expo','Habitantes']\n",
    "scaler = StandardScaler()\n",
    "df[columnas] = scaler.fit_transform(df[columnas]) #Solo columnas de interés escaladas"
   ]
  },
  {
   "cell_type": "code",
   "execution_count": 11,
   "metadata": {
    "scrolled": true
   },
   "outputs": [
    {
     "data": {
      "text/html": [
       "<div>\n",
       "<style scoped>\n",
       "    .dataframe tbody tr th:only-of-type {\n",
       "        vertical-align: middle;\n",
       "    }\n",
       "\n",
       "    .dataframe tbody tr th {\n",
       "        vertical-align: top;\n",
       "    }\n",
       "\n",
       "    .dataframe thead th {\n",
       "        text-align: right;\n",
       "    }\n",
       "</style>\n",
       "<table border=\"1\" class=\"dataframe\">\n",
       "  <thead>\n",
       "    <tr style=\"text-align: right;\">\n",
       "      <th></th>\n",
       "      <th>target</th>\n",
       "      <th>Sexo</th>\n",
       "      <th>AnioCumplidos</th>\n",
       "      <th>TamanioMuniResi</th>\n",
       "      <th>total_anios_Expo_Id</th>\n",
       "      <th>Total_Kg_expo</th>\n",
       "      <th>Distance</th>\n",
       "      <th>geometry_death</th>\n",
       "      <th>Latitud</th>\n",
       "      <th>Longitud</th>\n",
       "      <th>Habitantes</th>\n",
       "      <th>LatitudE</th>\n",
       "      <th>LongitudE</th>\n",
       "      <th>CO2_event</th>\n",
       "      <th>PM10_event</th>\n",
       "    </tr>\n",
       "  </thead>\n",
       "  <tbody>\n",
       "    <tr>\n",
       "      <th>0</th>\n",
       "      <td>1</td>\n",
       "      <td>1</td>\n",
       "      <td>-0.979792</td>\n",
       "      <td>-0.701283</td>\n",
       "      <td>1.237907</td>\n",
       "      <td>3.686373</td>\n",
       "      <td>4040</td>\n",
       "      <td>POINT (-5.348256 36.16117999999999)</td>\n",
       "      <td>36.16118</td>\n",
       "      <td>-5.348256</td>\n",
       "      <td>-0.653751</td>\n",
       "      <td>36.181181</td>\n",
       "      <td>-5.385775</td>\n",
       "      <td>1</td>\n",
       "      <td>0</td>\n",
       "    </tr>\n",
       "    <tr>\n",
       "      <th>1</th>\n",
       "      <td>0</td>\n",
       "      <td>0</td>\n",
       "      <td>0.420983</td>\n",
       "      <td>-0.701283</td>\n",
       "      <td>1.237907</td>\n",
       "      <td>3.686373</td>\n",
       "      <td>4040</td>\n",
       "      <td>POINT (-5.348256 36.16117999999999)</td>\n",
       "      <td>36.16118</td>\n",
       "      <td>-5.348256</td>\n",
       "      <td>-0.653751</td>\n",
       "      <td>36.181181</td>\n",
       "      <td>-5.385775</td>\n",
       "      <td>1</td>\n",
       "      <td>0</td>\n",
       "    </tr>\n",
       "    <tr>\n",
       "      <th>2</th>\n",
       "      <td>0</td>\n",
       "      <td>0</td>\n",
       "      <td>-0.463717</td>\n",
       "      <td>-0.701283</td>\n",
       "      <td>1.237907</td>\n",
       "      <td>3.686373</td>\n",
       "      <td>4040</td>\n",
       "      <td>POINT (-5.348256 36.16117999999999)</td>\n",
       "      <td>36.16118</td>\n",
       "      <td>-5.348256</td>\n",
       "      <td>-0.653751</td>\n",
       "      <td>36.181181</td>\n",
       "      <td>-5.385775</td>\n",
       "      <td>1</td>\n",
       "      <td>0</td>\n",
       "    </tr>\n",
       "    <tr>\n",
       "      <th>3</th>\n",
       "      <td>0</td>\n",
       "      <td>0</td>\n",
       "      <td>-1.938217</td>\n",
       "      <td>-0.701283</td>\n",
       "      <td>1.237907</td>\n",
       "      <td>3.686373</td>\n",
       "      <td>4040</td>\n",
       "      <td>POINT (-5.348256 36.16117999999999)</td>\n",
       "      <td>36.16118</td>\n",
       "      <td>-5.348256</td>\n",
       "      <td>-0.653751</td>\n",
       "      <td>36.181181</td>\n",
       "      <td>-5.385775</td>\n",
       "      <td>1</td>\n",
       "      <td>0</td>\n",
       "    </tr>\n",
       "    <tr>\n",
       "      <th>4</th>\n",
       "      <td>0</td>\n",
       "      <td>0</td>\n",
       "      <td>1.084508</td>\n",
       "      <td>-0.701283</td>\n",
       "      <td>1.237907</td>\n",
       "      <td>3.686373</td>\n",
       "      <td>4040</td>\n",
       "      <td>POINT (-5.348256 36.16117999999999)</td>\n",
       "      <td>36.16118</td>\n",
       "      <td>-5.348256</td>\n",
       "      <td>-0.653751</td>\n",
       "      <td>36.181181</td>\n",
       "      <td>-5.385775</td>\n",
       "      <td>1</td>\n",
       "      <td>0</td>\n",
       "    </tr>\n",
       "  </tbody>\n",
       "</table>\n",
       "</div>"
      ],
      "text/plain": [
       "   target  Sexo  AnioCumplidos  TamanioMuniResi  total_anios_Expo_Id  \\\n",
       "0       1     1      -0.979792        -0.701283             1.237907   \n",
       "1       0     0       0.420983        -0.701283             1.237907   \n",
       "2       0     0      -0.463717        -0.701283             1.237907   \n",
       "3       0     0      -1.938217        -0.701283             1.237907   \n",
       "4       0     0       1.084508        -0.701283             1.237907   \n",
       "\n",
       "   Total_Kg_expo  Distance                       geometry_death   Latitud  \\\n",
       "0       3.686373      4040  POINT (-5.348256 36.16117999999999)  36.16118   \n",
       "1       3.686373      4040  POINT (-5.348256 36.16117999999999)  36.16118   \n",
       "2       3.686373      4040  POINT (-5.348256 36.16117999999999)  36.16118   \n",
       "3       3.686373      4040  POINT (-5.348256 36.16117999999999)  36.16118   \n",
       "4       3.686373      4040  POINT (-5.348256 36.16117999999999)  36.16118   \n",
       "\n",
       "   Longitud  Habitantes   LatitudE  LongitudE  CO2_event  PM10_event  \n",
       "0 -5.348256   -0.653751  36.181181  -5.385775          1           0  \n",
       "1 -5.348256   -0.653751  36.181181  -5.385775          1           0  \n",
       "2 -5.348256   -0.653751  36.181181  -5.385775          1           0  \n",
       "3 -5.348256   -0.653751  36.181181  -5.385775          1           0  \n",
       "4 -5.348256   -0.653751  36.181181  -5.385775          1           0  "
      ]
     },
     "execution_count": 11,
     "metadata": {},
     "output_type": "execute_result"
    }
   ],
   "source": [
    "df.head()"
   ]
  },
  {
   "cell_type": "markdown",
   "metadata": {},
   "source": [
    "### Matrices de pesos espaciales (Spatial Weights) "
   ]
  },
  {
   "cell_type": "markdown",
   "metadata": {},
   "source": [
    "Debido a que el shape es muy pesado para realizar un análisis de regresión espacial primero vamos a realizar un muestreo aleatorio con numpy"
   ]
  },
  {
   "cell_type": "code",
   "execution_count": 12,
   "metadata": {},
   "outputs": [],
   "source": [
    "rows = np.random.choice(df.index.values, 5000)"
   ]
  },
  {
   "cell_type": "code",
   "execution_count": 13,
   "metadata": {},
   "outputs": [],
   "source": [
    "df_sam = df.loc[rows]"
   ]
  },
  {
   "cell_type": "code",
   "execution_count": 14,
   "metadata": {
    "scrolled": false
   },
   "outputs": [
    {
     "data": {
      "text/plain": [
       "(5000, 15)"
      ]
     },
     "execution_count": 14,
     "metadata": {},
     "output_type": "execute_result"
    }
   ],
   "source": [
    "df_sam.shape"
   ]
  },
  {
   "cell_type": "code",
   "execution_count": 15,
   "metadata": {},
   "outputs": [
    {
     "data": {
      "text/html": [
       "<div>\n",
       "<style scoped>\n",
       "    .dataframe tbody tr th:only-of-type {\n",
       "        vertical-align: middle;\n",
       "    }\n",
       "\n",
       "    .dataframe tbody tr th {\n",
       "        vertical-align: top;\n",
       "    }\n",
       "\n",
       "    .dataframe thead th {\n",
       "        text-align: right;\n",
       "    }\n",
       "</style>\n",
       "<table border=\"1\" class=\"dataframe\">\n",
       "  <thead>\n",
       "    <tr style=\"text-align: right;\">\n",
       "      <th></th>\n",
       "      <th>target</th>\n",
       "      <th>Sexo</th>\n",
       "      <th>AnioCumplidos</th>\n",
       "      <th>TamanioMuniResi</th>\n",
       "      <th>total_anios_Expo_Id</th>\n",
       "      <th>Total_Kg_expo</th>\n",
       "      <th>Distance</th>\n",
       "      <th>geometry_death</th>\n",
       "      <th>Latitud</th>\n",
       "      <th>Longitud</th>\n",
       "      <th>Habitantes</th>\n",
       "      <th>LatitudE</th>\n",
       "      <th>LongitudE</th>\n",
       "      <th>CO2_event</th>\n",
       "      <th>PM10_event</th>\n",
       "    </tr>\n",
       "  </thead>\n",
       "  <tbody>\n",
       "    <tr>\n",
       "      <th>64425</th>\n",
       "      <td>0</td>\n",
       "      <td>0</td>\n",
       "      <td>1.821759</td>\n",
       "      <td>0.051207</td>\n",
       "      <td>-0.435590</td>\n",
       "      <td>-0.522102</td>\n",
       "      <td>5883</td>\n",
       "      <td>POINT (2.099703999999997 41.35957999999999)</td>\n",
       "      <td>41.35958</td>\n",
       "      <td>2.099704</td>\n",
       "      <td>-0.268968</td>\n",
       "      <td>41.388362</td>\n",
       "      <td>2.040820</td>\n",
       "      <td>0</td>\n",
       "      <td>1</td>\n",
       "    </tr>\n",
       "    <tr>\n",
       "      <th>26588</th>\n",
       "      <td>1</td>\n",
       "      <td>1</td>\n",
       "      <td>0.494708</td>\n",
       "      <td>0.803696</td>\n",
       "      <td>-0.435590</td>\n",
       "      <td>1.865319</td>\n",
       "      <td>417</td>\n",
       "      <td>POINT (-5.844759000000001 43.36026)</td>\n",
       "      <td>43.36026</td>\n",
       "      <td>-5.844759</td>\n",
       "      <td>-0.335017</td>\n",
       "      <td>43.361915</td>\n",
       "      <td>-5.849389</td>\n",
       "      <td>1</td>\n",
       "      <td>0</td>\n",
       "    </tr>\n",
       "    <tr>\n",
       "      <th>11847</th>\n",
       "      <td>1</td>\n",
       "      <td>1</td>\n",
       "      <td>-1.938217</td>\n",
       "      <td>0.803696</td>\n",
       "      <td>0.680075</td>\n",
       "      <td>0.017392</td>\n",
       "      <td>1334</td>\n",
       "      <td>POINT (-0.8765379000000014 41.65629000000001)</td>\n",
       "      <td>41.65629</td>\n",
       "      <td>-0.876538</td>\n",
       "      <td>0.565366</td>\n",
       "      <td>41.648823</td>\n",
       "      <td>-0.889085</td>\n",
       "      <td>1</td>\n",
       "      <td>0</td>\n",
       "    </tr>\n",
       "    <tr>\n",
       "      <th>31724</th>\n",
       "      <td>0</td>\n",
       "      <td>1</td>\n",
       "      <td>0.937058</td>\n",
       "      <td>-1.453772</td>\n",
       "      <td>0.122242</td>\n",
       "      <td>0.255137</td>\n",
       "      <td>1134</td>\n",
       "      <td>POINT (1.432378 38.90886)</td>\n",
       "      <td>38.90886</td>\n",
       "      <td>1.432378</td>\n",
       "      <td>-0.685565</td>\n",
       "      <td>38.919060</td>\n",
       "      <td>1.431953</td>\n",
       "      <td>1</td>\n",
       "      <td>0</td>\n",
       "    </tr>\n",
       "    <tr>\n",
       "      <th>76055</th>\n",
       "      <td>0</td>\n",
       "      <td>1</td>\n",
       "      <td>0.199808</td>\n",
       "      <td>-1.453772</td>\n",
       "      <td>-0.993422</td>\n",
       "      <td>-0.522532</td>\n",
       "      <td>8395</td>\n",
       "      <td>POINT (-1.605718 42.06388)</td>\n",
       "      <td>42.06388</td>\n",
       "      <td>-1.605718</td>\n",
       "      <td>-0.713491</td>\n",
       "      <td>42.124843</td>\n",
       "      <td>-1.665745</td>\n",
       "      <td>0</td>\n",
       "      <td>1</td>\n",
       "    </tr>\n",
       "  </tbody>\n",
       "</table>\n",
       "</div>"
      ],
      "text/plain": [
       "       target  Sexo  AnioCumplidos  TamanioMuniResi  total_anios_Expo_Id  \\\n",
       "64425       0     0       1.821759         0.051207            -0.435590   \n",
       "26588       1     1       0.494708         0.803696            -0.435590   \n",
       "11847       1     1      -1.938217         0.803696             0.680075   \n",
       "31724       0     1       0.937058        -1.453772             0.122242   \n",
       "76055       0     1       0.199808        -1.453772            -0.993422   \n",
       "\n",
       "       Total_Kg_expo  Distance                                 geometry_death  \\\n",
       "64425      -0.522102      5883    POINT (2.099703999999997 41.35957999999999)   \n",
       "26588       1.865319       417            POINT (-5.844759000000001 43.36026)   \n",
       "11847       0.017392      1334  POINT (-0.8765379000000014 41.65629000000001)   \n",
       "31724       0.255137      1134                      POINT (1.432378 38.90886)   \n",
       "76055      -0.522532      8395                     POINT (-1.605718 42.06388)   \n",
       "\n",
       "        Latitud  Longitud  Habitantes   LatitudE  LongitudE  CO2_event  \\\n",
       "64425  41.35958  2.099704   -0.268968  41.388362   2.040820          0   \n",
       "26588  43.36026 -5.844759   -0.335017  43.361915  -5.849389          1   \n",
       "11847  41.65629 -0.876538    0.565366  41.648823  -0.889085          1   \n",
       "31724  38.90886  1.432378   -0.685565  38.919060   1.431953          1   \n",
       "76055  42.06388 -1.605718   -0.713491  42.124843  -1.665745          0   \n",
       "\n",
       "       PM10_event  \n",
       "64425           1  \n",
       "26588           0  \n",
       "11847           0  \n",
       "31724           0  \n",
       "76055           1  "
      ]
     },
     "execution_count": 15,
     "metadata": {},
     "output_type": "execute_result"
    }
   ],
   "source": [
    "df_sam.head()"
   ]
  },
  {
   "cell_type": "markdown",
   "metadata": {},
   "source": [
    "### k-nearest neighbor weights"
   ]
  },
  {
   "cell_type": "markdown",
   "metadata": {},
   "source": [
    "Este método es una combinación de umbrales basados en la distancia junto con los pesos del kernel. En nuestro caso el ancho de banda se establece en un valor predeterminado y se fija a través de las observaciones"
   ]
  },
  {
   "cell_type": "code",
   "execution_count": 16,
   "metadata": {},
   "outputs": [],
   "source": [
    "del df_sam['geometry_death']"
   ]
  },
  {
   "cell_type": "markdown",
   "metadata": {},
   "source": [
    "En principio establecemos una matriz de pesos espaciales para k vecinos"
   ]
  },
  {
   "cell_type": "code",
   "execution_count": 17,
   "metadata": {},
   "outputs": [],
   "source": [
    "wknn = ps.weights.KNN(df_sam, k = 30)"
   ]
  },
  {
   "cell_type": "code",
   "execution_count": 18,
   "metadata": {},
   "outputs": [
    {
     "data": {
      "text/plain": [
       "150000.0"
      ]
     },
     "execution_count": 18,
     "metadata": {},
     "output_type": "execute_result"
    }
   ],
   "source": [
    "wknn.s0"
   ]
  },
  {
   "cell_type": "code",
   "execution_count": 19,
   "metadata": {
    "scrolled": false
   },
   "outputs": [
    {
     "data": {
      "text/plain": [
       "5000"
      ]
     },
     "execution_count": 19,
     "metadata": {},
     "output_type": "execute_result"
    }
   ],
   "source": [
    "wknn.n"
   ]
  },
  {
   "cell_type": "markdown",
   "metadata": {},
   "source": [
    "Estandarizamos rows"
   ]
  },
  {
   "cell_type": "code",
   "execution_count": 20,
   "metadata": {},
   "outputs": [],
   "source": [
    "wknn.transform = 'r'"
   ]
  },
  {
   "cell_type": "markdown",
   "metadata": {},
   "source": [
    "## Modelos de Regresión"
   ]
  },
  {
   "cell_type": "code",
   "execution_count": 21,
   "metadata": {},
   "outputs": [
    {
     "data": {
      "text/plain": [
       "Index(['target', 'Sexo', 'AnioCumplidos', 'TamanioMuniResi',\n",
       "       'total_anios_Expo_Id', 'Total_Kg_expo', 'Distance', 'Latitud',\n",
       "       'Longitud', 'Habitantes', 'LatitudE', 'LongitudE', 'CO2_event',\n",
       "       'PM10_event'],\n",
       "      dtype='object')"
      ]
     },
     "execution_count": 21,
     "metadata": {},
     "output_type": "execute_result"
    }
   ],
   "source": [
    "df_sam.columns"
   ]
  },
  {
   "cell_type": "markdown",
   "metadata": {},
   "source": [
    "Generamos los array"
   ]
  },
  {
   "cell_type": "code",
   "execution_count": 22,
   "metadata": {},
   "outputs": [],
   "source": [
    "columns=['Sexo', 'AnioCumplidos','total_anios_Expo_Id', 'Total_Kg_expo','Habitantes','Distance']#se utiliza más adelante\n",
    "np.random.seed(12345)\n",
    "y = np.array(df_sam['target'])\n",
    "y.shape = (len(y),1)\n",
    "X= []\n",
    "X.append(df_sam['Sexo'])\n",
    "X.append(df_sam['AnioCumplidos'])\n",
    "X.append(df_sam['total_anios_Expo_Id'])\n",
    "X.append(df_sam['Total_Kg_expo'])\n",
    "X.append(df_sam['Habitantes'])\n",
    "X.append(df_sam['Distance'])\n",
    "\n",
    "X = np.array(X).T"
   ]
  },
  {
   "cell_type": "markdown",
   "metadata": {},
   "source": [
    "### Lineal Regression MCO (Nonspatial)"
   ]
  },
  {
   "cell_type": "code",
   "execution_count": 23,
   "metadata": {
    "scrolled": true
   },
   "outputs": [
    {
     "name": "stdout",
     "output_type": "stream",
     "text": [
      "REGRESSION\n",
      "----------\n",
      "SUMMARY OF OUTPUT: ORDINARY LEAST SQUARES\n",
      "-----------------------------------------\n",
      "Data set            :Dataframe Deaths sampled\n",
      "Weights matrix      :        None\n",
      "Dependent Variable  :Causa fallecimiento CI10-34                Number of Observations:        5000\n",
      "Mean dependent var  :      0.1596                Number of Variables   :           7\n",
      "S.D. dependent var  :      0.3663                Degrees of Freedom    :        4993\n",
      "R-squared           :      0.0705\n",
      "Adjusted R-squared  :      0.0694\n",
      "Sum squared residual:     623.378                F-statistic           :     63.0910\n",
      "Sigma-square        :       0.125                Prob(F-statistic)     :   9.153e-76\n",
      "S.E. of regression  :       0.353                Log likelihood        :   -1889.591\n",
      "Sigma-square ML     :       0.125                Akaike info criterion :    3793.182\n",
      "S.E of regression ML:      0.3531                Schwarz criterion     :    3838.802\n",
      "\n",
      "------------------------------------------------------------------------------------\n",
      "            Variable     Coefficient       Std.Error     t-Statistic     Probability\n",
      "------------------------------------------------------------------------------------\n",
      "            CONSTANT       0.0836969       0.0112346       7.4499214       0.0000000\n",
      "                Sexo       0.1263249       0.0101815      12.4073008       0.0000000\n",
      "       AnioCumplidos      -0.0698282       0.0049893     -13.9956902       0.0000000\n",
      " total_anios_Expo_Id       0.0060182       0.0061243       0.9826796       0.3258128\n",
      "       Total_Kg_expo       0.0059429       0.0052640       1.1289753       0.2589625\n",
      "          Habitantes       0.0000328       0.0060364       0.0054297       0.9956680\n",
      "            Distance       0.0000001       0.0000021       0.0466093       0.9628265\n",
      "------------------------------------------------------------------------------------\n",
      "\n",
      "REGRESSION DIAGNOSTICS\n",
      "MULTICOLLINEARITY CONDITION NUMBER            4.524\n",
      "\n",
      "TEST ON NORMALITY OF ERRORS\n",
      "TEST                             DF        VALUE           PROB\n",
      "Jarque-Bera                       2        2482.403           0.0000\n",
      "\n",
      "DIAGNOSTICS FOR HETEROSKEDASTICITY\n",
      "RANDOM COEFFICIENTS\n",
      "TEST                             DF        VALUE           PROB\n",
      "Breusch-Pagan test                6         348.674           0.0000\n",
      "Koenker-Bassett test              6         222.232           0.0000\n",
      "================================ END OF REPORT =====================================\n"
     ]
    }
   ],
   "source": [
    "ls = ols.OLS(y, X, name_y = 'Causa fallecimiento CI10-34', name_x = columns\\\n",
    "             , name_ds = 'Dataframe Deaths sampled')\n",
    "print(ls.summary)"
   ]
  },
  {
   "cell_type": "markdown",
   "metadata": {},
   "source": [
    "#### Para ver la no independencia espacial, primero utilizamos la función I de Moran con los residuos desde un punto de vista global"
   ]
  },
  {
   "cell_type": "markdown",
   "metadata": {},
   "source": [
    "Evaluamos la autocorrelación espacial en los residuos (ya que se supone que son independientes y no están correlacionados). \n",
    "Los valores de I pueden oscilar entre -1 (indicando dispersión perfecta) a 1 (correlación perfecta). Un valor de cero indica un patrón espacial aleatorio."
   ]
  },
  {
   "cell_type": "code",
   "execution_count": 24,
   "metadata": {},
   "outputs": [
    {
     "name": "stdout",
     "output_type": "stream",
     "text": [
      "Observed I: 0.18082390404622783 \n",
      "Expected I: -0.00020004000800160032 \n",
      "   p-value: 0.0\n"
     ]
    }
   ],
   "source": [
    "# Pasamos los weights matrix a la función pysal.Moran, a través de nuestro modelo residual (ls.u)\n",
    "mi = ps.Moran(ls.u, wknn, two_tailed=False)\n",
    "print('Observed I:', mi.I, '\\nExpected I:', mi.EI, '\\n   p-value:', mi.p_norm)"
   ]
  },
  {
   "cell_type": "markdown",
   "metadata": {},
   "source": [
    "### Spatial Regressión"
   ]
  },
  {
   "cell_type": "markdown",
   "metadata": {},
   "source": [
    "Utilizamos la matriz de pesos espaciales k-nearest neighbor weights y la función de spatial Error model para cuantificar la no-independencia espacial"
   ]
  },
  {
   "cell_type": "code",
   "execution_count": 25,
   "metadata": {},
   "outputs": [
    {
     "name": "stderr",
     "output_type": "stream",
     "text": [
      "C:\\Users\\julia\\Anaconda3\\lib\\site-packages\\scipy\\optimize\\_minimize.py:643: RuntimeWarning: Method 'bounded' does not support relative tolerance in x; defaulting to absolute tolerance.\n",
      "  \"defaulting to absolute tolerance.\", RuntimeWarning)\n"
     ]
    },
    {
     "name": "stdout",
     "output_type": "stream",
     "text": [
      "REGRESSION\n",
      "----------\n",
      "SUMMARY OF OUTPUT: MAXIMUM LIKELIHOOD SPATIAL ERROR (METHOD = FULL)\n",
      "-------------------------------------------------------------------\n",
      "Data set            :Dataframe Deaths sampled\n",
      "Weights matrix      : deaths wknn\n",
      "Dependent Variable  :Causa fallecimiento CI10-34                Number of Observations:        5000\n",
      "Mean dependent var  :      0.1596                Number of Variables   :           7\n",
      "S.D. dependent var  :      0.3663                Degrees of Freedom    :        4993\n",
      "Pseudo R-squared    :      0.0477\n",
      "Sigma-square ML     :       0.098                Log likelihood        :   -1381.519\n",
      "S.E of regression   :       0.312                Akaike info criterion :    2777.039\n",
      "                                                 Schwarz criterion     :    2822.659\n",
      "\n",
      "------------------------------------------------------------------------------------\n",
      "            Variable     Coefficient       Std.Error     z-Statistic     Probability\n",
      "------------------------------------------------------------------------------------\n",
      "            CONSTANT       0.2896586       0.0520886       5.5608877       0.0000000\n",
      "                Sexo       0.1195148       0.0111469      10.7217600       0.0000000\n",
      "                Años      -0.0562147       0.0060738      -9.2553041       0.0000000\n",
      "     Total años Expo       0.0045145       0.0102368       0.4410054       0.6592091\n",
      "       Kgs Cont.expo      -0.0102180       0.0105393      -0.9695122       0.3322897\n",
      "            Distance       0.0406775       0.0205523       1.9792195       0.0477913\n",
      "    Tamaño Municipio      -0.0000121       0.0000116      -1.0433349       0.2967932\n",
      "              lambda       0.8430053       0.0117428      71.7890490       0.0000000\n",
      "------------------------------------------------------------------------------------\n",
      "================================ END OF REPORT =====================================\n"
     ]
    }
   ],
   "source": [
    "spat_err = ml_error.ML_Error(y, X, wknn, \n",
    "                             name_y='Causa fallecimiento CI10-34', name_x= ['Sexo','Años','Total años Expo','Kgs Cont.expo','Distance','Tamaño Municipio'], \n",
    "                             name_w='deaths wknn', name_ds='Dataframe Deaths sampled')\n",
    "print(spat_err.summary)"
   ]
  },
  {
   "cell_type": "markdown",
   "metadata": {},
   "source": [
    "#### Regresión lineal por Pysal con matriz de pesos espaciales"
   ]
  },
  {
   "cell_type": "markdown",
   "metadata": {},
   "source": [
    "Realizamos otra Regresión mediante otro método del módulo spreg de Pysal"
   ]
  },
  {
   "cell_type": "code",
   "execution_count": 26,
   "metadata": {},
   "outputs": [
    {
     "name": "stdout",
     "output_type": "stream",
     "text": [
      "REGRESSION\n",
      "----------\n",
      "SUMMARY OF OUTPUT: ORDINARY LEAST SQUARES\n",
      "-----------------------------------------\n",
      "Data set            :Dataframe Deaths sampled\n",
      "Weights matrix      : deaths wknn\n",
      "Dependent Variable  :      target                Number of Observations:        5000\n",
      "Mean dependent var  :      0.1596                Number of Variables   :           7\n",
      "S.D. dependent var  :      0.3663                Degrees of Freedom    :        4993\n",
      "R-squared           :      0.0705\n",
      "Adjusted R-squared  :      0.0694\n",
      "Sum squared residual:     623.378                F-statistic           :     63.0910\n",
      "Sigma-square        :       0.125                Prob(F-statistic)     :   9.153e-76\n",
      "S.E. of regression  :       0.353                Log likelihood        :   -1889.591\n",
      "Sigma-square ML     :       0.125                Akaike info criterion :    3793.182\n",
      "S.E of regression ML:      0.3531                Schwarz criterion     :    3838.802\n",
      "\n",
      "------------------------------------------------------------------------------------\n",
      "            Variable     Coefficient       Std.Error     t-Statistic     Probability\n",
      "------------------------------------------------------------------------------------\n",
      "            CONSTANT       0.0836969       0.0112346       7.4499214       0.0000000\n",
      "                Sexo       0.1263249       0.0101815      12.4073008       0.0000000\n",
      "       AnioCumplidos      -0.0698282       0.0049893     -13.9956902       0.0000000\n",
      " total_anios_Expo_Id       0.0060182       0.0061243       0.9826796       0.3258128\n",
      "       Total_Kg_expo       0.0059429       0.0052640       1.1289753       0.2589625\n",
      "          Habitantes       0.0000328       0.0060364       0.0054297       0.9956680\n",
      "            Distance       0.0000001       0.0000021       0.0466093       0.9628265\n",
      "------------------------------------------------------------------------------------\n",
      "\n",
      "REGRESSION DIAGNOSTICS\n",
      "MULTICOLLINEARITY CONDITION NUMBER            4.524\n",
      "\n",
      "TEST ON NORMALITY OF ERRORS\n",
      "TEST                             DF        VALUE           PROB\n",
      "Jarque-Bera                       2        2482.403           0.0000\n",
      "\n",
      "DIAGNOSTICS FOR HETEROSKEDASTICITY\n",
      "RANDOM COEFFICIENTS\n",
      "TEST                             DF        VALUE           PROB\n",
      "Breusch-Pagan test                6         348.674           0.0000\n",
      "Koenker-Bassett test              6         222.232           0.0000\n",
      "\n",
      "DIAGNOSTICS FOR SPATIAL DEPENDENCE\n",
      "TEST                           MI/DF       VALUE           PROB\n",
      "Lagrange Multiplier (lag)         1        2492.025           0.0000\n",
      "Robust LM (lag)                   1          10.639           0.0011\n",
      "Lagrange Multiplier (error)       1        2785.076           0.0000\n",
      "Robust LM (error)                 1         303.690           0.0000\n",
      "Lagrange Multiplier (SARMA)       2        2795.714           0.0000\n",
      "\n",
      "================================ END OF REPORT =====================================\n"
     ]
    }
   ],
   "source": [
    "m1 = ps.spreg.OLS(y, X ,w=wknn, spat_diag=True, name_x=columns, name_y='target',\\\n",
    "                  name_w='deaths wknn',name_ds='Dataframe Deaths sampled')\n",
    "print(m1.summary)"
   ]
  },
  {
   "cell_type": "markdown",
   "metadata": {},
   "source": [
    "#### Spatially lagged exogenous regressors"
   ]
  },
  {
   "cell_type": "code",
   "execution_count": 27,
   "metadata": {},
   "outputs": [
    {
     "name": "stdout",
     "output_type": "stream",
     "text": [
      "REGRESSION\n",
      "----------\n",
      "SUMMARY OF OUTPUT: SPATIAL TWO STAGE LEAST SQUARES\n",
      "--------------------------------------------------\n",
      "Data set            :Dataframe Deaths sampled\n",
      "Weights matrix      : deaths wknn\n",
      "Dependent Variable  :Causa fallecimiento CI10-34                Number of Observations:        5000\n",
      "Mean dependent var  :      0.1596                Number of Variables   :           8\n",
      "S.D. dependent var  :      0.3663                Degrees of Freedom    :        4992\n",
      "Pseudo R-squared    :      0.2375\n",
      "Spatial Pseudo R-squared:  0.0694\n",
      "\n",
      "------------------------------------------------------------------------------------\n",
      "            Variable     Coefficient       Std.Error     z-Statistic     Probability\n",
      "------------------------------------------------------------------------------------\n",
      "            CONSTANT       0.0348508       0.0159059       2.1910699       0.0284467\n",
      "                Sexo       0.1081678       0.0104058      10.3949426       0.0000000\n",
      "       AnioCumplidos      -0.0519150       0.0063842      -8.1317389       0.0000000\n",
      " total_anios_Expo_Id       0.0032731       0.0056882       0.5754262       0.5650031\n",
      "       Total_Kg_expo       0.0021847       0.0049423       0.4420339       0.6584647\n",
      "          Habitantes       0.0064956       0.0057911       1.1216497       0.2620114\n",
      "            Distance      -0.0000010       0.0000020      -0.4795346       0.6315584\n",
      "W_Causa fallecimiento CI10-34       0.4868038       0.1202815       4.0472051       0.0000518\n",
      "------------------------------------------------------------------------------------\n",
      "Instrumented: W_Causa fallecimiento CI10-34\n",
      "Instruments: W_AnioCumplidos, W_Distance, W_Habitantes, W_Sexo,\n",
      "             W_Total_Kg_expo, W_total_anios_Expo_Id\n",
      "\n",
      "DIAGNOSTICS FOR SPATIAL DEPENDENCE\n",
      "TEST                           MI/DF       VALUE           PROB\n",
      "Anselin-Kelejian Test             1          25.888          0.0000\n",
      "================================ END OF REPORT =====================================\n"
     ]
    }
   ],
   "source": [
    "m3 = ps.spreg.GM_Lag(y, X, \\\n",
    "                  w=wknn, spat_diag=True, \\\n",
    "                  name_x=columns, name_y = 'Causa fallecimiento CI10-34',\\\n",
    "                     name_w='deaths wknn',name_ds='Dataframe Deaths sampled')\n",
    "print(m3.summary)"
   ]
  }
 ],
 "metadata": {
  "kernelspec": {
   "display_name": "Python 3",
   "language": "python",
   "name": "python3"
  },
  "language_info": {
   "codemirror_mode": {
    "name": "ipython",
    "version": 3
   },
   "file_extension": ".py",
   "mimetype": "text/x-python",
   "name": "python",
   "nbconvert_exporter": "python",
   "pygments_lexer": "ipython3",
   "version": "3.6.4"
  }
 },
 "nbformat": 4,
 "nbformat_minor": 2
}
