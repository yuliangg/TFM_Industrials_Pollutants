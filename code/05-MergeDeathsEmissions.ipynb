{
 "cells": [
  {
   "cell_type": "markdown",
   "metadata": {},
   "source": [
    "# Merge Deaths-Emissions"
   ]
  },
  {
   "cell_type": "code",
   "execution_count": 2,
   "metadata": {
    "collapsed": true
   },
   "outputs": [],
   "source": [
    "import pandas as pd\n",
    "import numpy  as np"
   ]
  },
  {
   "cell_type": "code",
   "execution_count": 3,
   "metadata": {
    "scrolled": true
   },
   "outputs": [
    {
     "name": "stderr",
     "output_type": "stream",
     "text": [
      "/home/dsc/anaconda3/lib/python3.6/site-packages/numpy/lib/arraysetops.py:463: FutureWarning: elementwise comparison failed; returning scalar instead, but in the future will perform elementwise comparison\n",
      "  mask |= (ar1 == a)\n"
     ]
    }
   ],
   "source": [
    "DfDeaths = pd.read_csv('../data/Deaths/DfDefuncionesGeo.csv', sep=';', index_col=0)"
   ]
  },
  {
   "cell_type": "code",
   "execution_count": 4,
   "metadata": {
    "collapsed": true
   },
   "outputs": [],
   "source": [
    "FEmissions = pd.ExcelFile('../data/csv/Emissions/geo/Comp_by_Emi_total_Geo_2001-2015.xlsx', \n",
    "                       sheetname='Comp_by_Emi_total_Geo_2001-2015')\n",
    "DfEmissionsTotal = pd.read_excel(FEmissions,index_col=None,na_values=['NA'])\n"
   ]
  },
  {
   "cell_type": "code",
   "execution_count": 5,
   "metadata": {
    "collapsed": true
   },
   "outputs": [],
   "source": [
    "### Elimina registro de defunciones por causas no, posiblemente, relacionadas con emisiones\n",
    "# Según manual CIE-10-ES de diagnósticos de enfermedades del Ministerio de Sanida\n",
    "# Se Elimina:\n",
    "# 1.- Enfermedades infecciosas y parasitarias A00-B99\n",
    "# 2.- Malformaciones congénitas, deformaciones y anomalías cromosomáticas Q00-Q99\n",
    "# 3.- Lesiones y envenenamientos S00-S99\n",
    "# 4.- Factores Sanitarios Z00-Z99 \n",
    "DfDeaths = DfDeaths[(DfDeaths['CausaMuertebas1'] != 'A') & \\\n",
    "                    (DfDeaths['CausaMuertebas1'] != 'Q') & \\\n",
    "                    (DfDeaths['CausaMuertebas1'] != 'S') & \\\n",
    "                    (DfDeaths['CausaMuertebas1'] != 'Z') \n",
    "                   ]"
   ]
  },
  {
   "cell_type": "code",
   "execution_count": 6,
   "metadata": {
    "collapsed": true
   },
   "outputs": [],
   "source": [
    "### cálculo área posible repercusión de las emisiones 5km\n",
    "DfDeaths['Longitud1'] = DfDeaths['Longitud'].apply(lambda x:  x + 0.070000000000000)\n",
    "DfDeaths['Longitud2'] = DfDeaths['Longitud'].apply(lambda x:  x - 0.070000000000000)\n",
    "DfDeaths['Latitud1'] = DfDeaths['Latitud'].apply(lambda x:  x + 0.070000000000000)\n",
    "DfDeaths['Latitud2'] = DfDeaths['Latitud'].apply(lambda x:  x - 0.070000000000000)"
   ]
  },
  {
   "cell_type": "code",
   "execution_count": 7,
   "metadata": {
    "collapsed": true
   },
   "outputs": [],
   "source": [
    "# Nueva columna Id fichero defunciones para identificar cada defunción\n",
    "DfDeaths['Id'] = np.arange(len(DfDeaths))"
   ]
  },
  {
   "cell_type": "code",
   "execution_count": 8,
   "metadata": {},
   "outputs": [
    {
     "name": "stderr",
     "output_type": "stream",
     "text": [
      "/home/dsc/anaconda3/lib/python3.6/site-packages/ipykernel_launcher.py:28: SettingWithCopyWarning: \n",
      "A value is trying to be set on a copy of a slice from a DataFrame.\n",
      "Try using .loc[row_indexer,col_indexer] = value instead\n",
      "\n",
      "See the caveats in the documentation: http://pandas.pydata.org/pandas-docs/stable/indexing.html#indexing-view-versus-copy\n",
      "/home/dsc/anaconda3/lib/python3.6/site-packages/ipykernel_launcher.py:29: SettingWithCopyWarning: \n",
      "A value is trying to be set on a copy of a slice from a DataFrame.\n",
      "Try using .loc[row_indexer,col_indexer] = value instead\n",
      "\n",
      "See the caveats in the documentation: http://pandas.pydata.org/pandas-docs/stable/indexing.html#indexing-view-versus-copy\n",
      "/home/dsc/anaconda3/lib/python3.6/site-packages/ipykernel_launcher.py:30: SettingWithCopyWarning: \n",
      "A value is trying to be set on a copy of a slice from a DataFrame.\n",
      "Try using .loc[row_indexer,col_indexer] = value instead\n",
      "\n",
      "See the caveats in the documentation: http://pandas.pydata.org/pandas-docs/stable/indexing.html#indexing-view-versus-copy\n",
      "/home/dsc/anaconda3/lib/python3.6/site-packages/ipykernel_launcher.py:31: SettingWithCopyWarning: \n",
      "A value is trying to be set on a copy of a slice from a DataFrame.\n",
      "Try using .loc[row_indexer,col_indexer] = value instead\n",
      "\n",
      "See the caveats in the documentation: http://pandas.pydata.org/pandas-docs/stable/indexing.html#indexing-view-versus-copy\n",
      "/home/dsc/anaconda3/lib/python3.6/site-packages/ipykernel_launcher.py:32: SettingWithCopyWarning: \n",
      "A value is trying to be set on a copy of a slice from a DataFrame.\n",
      "Try using .loc[row_indexer,col_indexer] = value instead\n",
      "\n",
      "See the caveats in the documentation: http://pandas.pydata.org/pandas-docs/stable/indexing.html#indexing-view-versus-copy\n",
      "/home/dsc/anaconda3/lib/python3.6/site-packages/ipykernel_launcher.py:33: SettingWithCopyWarning: \n",
      "A value is trying to be set on a copy of a slice from a DataFrame.\n",
      "Try using .loc[row_indexer,col_indexer] = value instead\n",
      "\n",
      "See the caveats in the documentation: http://pandas.pydata.org/pandas-docs/stable/indexing.html#indexing-view-versus-copy\n"
     ]
    }
   ],
   "source": [
    "#Selección de Emisiones dentro del área aproximada de 5km cuadrados de defunciones y entre el año de \n",
    "#nacimiento y defunción.\n",
    "#Sólo se tratan las emisiones por aíre.\n",
    "#Optimización de proceso: tratamiento por años de emisión, liberando memoría y grabando en disco \n",
    "#cada 500 registros.\n",
    "DfDeathsEmissions = pd.DataFrame()\n",
    "DfEmissions = pd.DataFrame()\n",
    "\n",
    "for anio in range(2001,2016):\n",
    "    \n",
    "    del DfEmissions\n",
    "    \n",
    "    DfEmissions = DfEmissionsTotal[(DfEmissionsTotal['MedioReceptor'] == 'Aire') & \n",
    "                         (DfEmissionsTotal['AnyoReferencia'] == anio)]\n",
    "    DfEmissions = DfEmissions.reset_index()\n",
    "    \n",
    "    for i in range(1,len(DfEmissions)):\n",
    "        Df1 = DfDeaths.loc[(DfDeaths['Longitud1'] > DfEmissions.Longitud.at[i]) &\n",
    "                       (DfDeaths['Longitud2'] < DfEmissions.Longitud.at[i]) &                  \n",
    "                       (DfDeaths['Latitud1'] > DfEmissions.Latitud.at[i]) &                   \n",
    "                       (DfDeaths['Latitud2'] < DfEmissions.Latitud.at[i]) &      \n",
    "                       (DfDeaths['AnioNacimiento'] <= DfEmissions.AnyoReferencia.at[i]) &\n",
    "                       (DfDeaths['AnioDefuncion']  >= DfEmissions.AnyoReferencia.at[i])]\n",
    "\n",
    "   #     print(i)\n",
    "                  \n",
    "        if len(Df1) > 0:\n",
    "            Df1['CodigoPRTR'] = DfEmissions.CodigoPRTR.at[i]\n",
    "            Df1['AnyoReferencia'] = DfEmissions.AnyoReferencia.at[i]\n",
    "            Df1['Contaminante'] = DfEmissions.Contaminante.at[i]\n",
    "            Df1['CantidadTotalkgporanyo'] = DfEmissions.CantidadTotalkgporaAnyo.at[i]\n",
    "            Df1['LongitudE'] = DfEmissions.Longitud.at[i]\n",
    "            Df1['LatitudE'] = DfEmissions.Latitud.at[i]\n",
    "\n",
    "            DfDeathsEmissions = DfDeathsEmissions.append(Df1)\n",
    "    \n",
    "        if (i == 500) | (i == 1000) | (i == 1500) | (i == 2000) | (i == 2500) | \\\n",
    "           (i == 3000) | \\\n",
    "           (i == 3500):\n",
    "             DfDeathsEmissions.to_csv('../data/csv/merge/DeathsEmissionsFinal_'+str(anio)+'_'+str(i)+'.csv',\n",
    "                                      sep=';',compression='gzip')\n",
    "             del DfDeathsEmissions\n",
    "             DfDeathsEmissions = pd.DataFrame()\n",
    "        \n",
    "\n",
    "    DfDeathsEmissions.to_csv('../data/csv/merge/DeathsEmissionsFinal_'+str(anio)+'_'+str(i)+'.csv',\n",
    "                             sep=';',compression='gzip')\n",
    "    del DfDeathsEmissions\n",
    "    DfDeathsEmissions = pd.DataFrame()\n",
    "        "
   ]
  }
 ],
 "metadata": {
  "kernelspec": {
   "display_name": "Python 3",
   "language": "python",
   "name": "python3"
  },
  "language_info": {
   "codemirror_mode": {
    "name": "ipython",
    "version": 3
   },
   "file_extension": ".py",
   "mimetype": "text/x-python",
   "name": "python",
   "nbconvert_exporter": "python",
   "pygments_lexer": "ipython3",
   "version": "3.6.4"
  }
 },
 "nbformat": 4,
 "nbformat_minor": 2
}
