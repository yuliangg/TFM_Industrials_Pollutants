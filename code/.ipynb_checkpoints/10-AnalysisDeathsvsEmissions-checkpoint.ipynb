{
 "cells": [
  {
   "cell_type": "markdown",
   "metadata": {},
   "source": [
    "# Analysis Deaths-Pollutants"
   ]
  },
  {
   "cell_type": "code",
   "execution_count": 1,
   "metadata": {},
   "outputs": [],
   "source": [
    "import pandas as pd\n",
    "import numpy  as np\n",
    "import csv\n",
    "import matplotlib.pyplot as plt\n",
    "import seaborn as sns\n",
    "from ipywidgets import interact, interactive, fixed, interact_manual\n",
    "from glob import glob"
   ]
  },
  {
   "cell_type": "markdown",
   "metadata": {},
   "source": [
    "Para visualizar más Contaminantes poner un símbolo de \"#\" delante del fichero en el directorio abajo indicado, sólo se leen dos por ser objeto de estudio"
   ]
  },
  {
   "cell_type": "code",
   "execution_count": 2,
   "metadata": {},
   "outputs": [],
   "source": [
    "#Listado de ficheros entrada DeathsEmissions por emisión\n",
    "ListFichDeathsEmissionsFinal = glob('../data/csv/final/#DeathsEmissions_final_*.csv')"
   ]
  },
  {
   "cell_type": "code",
   "execution_count": 3,
   "metadata": {},
   "outputs": [
    {
     "name": "stdout",
     "output_type": "stream",
     "text": [
      "Contaminante.: ../data/csv/final\\#DeathsEmissions_final_Dioxido_de_carbono_CO2_1.csv\n",
      "Contaminante.: ../data/csv/final\\#DeathsEmissions_final_Particulas_PM10_1.csv\n"
     ]
    }
   ],
   "source": [
    "#Genera fichero de agrupación por contaminantes, causa muerte 1, 2 y 3 y Sexo con totales defunciones \n",
    "DfTotalContCausSexo = pd.DataFrame()\n",
    "\n",
    "for i in range(0,len(ListFichDeathsEmissionsFinal)):   \n",
    "    \n",
    "    print ('Contaminante.: '+ListFichDeathsEmissionsFinal[i])\n",
    "            \n",
    "    DfContCausSexo = pd.DataFrame()\n",
    "    \n",
    "    DfDeathsEmissions = pd.read_csv(ListFichDeathsEmissionsFinal[i],sep=';',compression='gzip') #cargamos df con cada fichero\n",
    "\n",
    "    DfContCausSexo['Contaminante']    = DfDeathsEmissions['Contaminante']\n",
    "    DfContCausSexo['CausaMuertebas1'] = DfDeathsEmissions['CausaMuertebas1']\n",
    "    DfContCausSexo['CausaMuertebas2'] = DfDeathsEmissions['CausaMuertebas2']\n",
    "    DfContCausSexo['CausaMuertebas3'] = DfDeathsEmissions['CausaMuertebas3']\n",
    "    DfContCausSexo['Sexo']            = DfDeathsEmissions['Sexo']\n",
    "\n",
    "    Columnas = ('Contaminante',\n",
    "                'CausaMuertebas1',\n",
    "                'CausaMuertebas2',\n",
    "                'CausaMuertebas3',\n",
    "                'Sexo')   \n",
    "\n",
    "    DfContCausSexo = DfContCausSexo.drop_duplicates(Columnas, keep=\"first\", inplace=False)\n",
    "   \n",
    "    DfTotales = DfDeathsEmissions.groupby(Columnas).agg({'Id':'count'})\n",
    "    DfTotales = DfTotales.rename(columns={\"Id\":\"TotalDeaths\"})\n",
    "    DfContCausSexo = DfContCausSexo.merge(DfTotales, how='left', left_on=Columnas, right_index=True)\n",
    "\n",
    "    DfTotalContCausSexo = DfTotalContCausSexo.append(DfContCausSexo)\n"
   ]
  },
  {
   "cell_type": "code",
   "execution_count": 4,
   "metadata": {},
   "outputs": [],
   "source": [
    "#Listado CIE-10\n",
    "DfCie10 = pd.read_csv('../data/csv/CIE-10.csv',sep=';')"
   ]
  },
  {
   "cell_type": "code",
   "execution_count": 5,
   "metadata": {},
   "outputs": [
    {
     "name": "stderr",
     "output_type": "stream",
     "text": [
      "C:\\Users\\julia\\Anaconda3\\lib\\site-packages\\ipykernel_launcher.py:4: SettingWithCopyWarning: \n",
      "A value is trying to be set on a copy of a slice from a DataFrame\n",
      "\n",
      "See the caveats in the documentation: http://pandas.pydata.org/pandas-docs/stable/indexing.html#indexing-view-versus-copy\n",
      "  after removing the cwd from sys.path.\n"
     ]
    }
   ],
   "source": [
    "#Incluye descripción causa de muerte y descripción sexo\n",
    "DfTotalContCausSexo = pd.merge(DfTotalContCausSexo, DfCie10, on='CausaMuertebas1')\n",
    "DfTotalContCausSexo['SexoDescripcion'] = 'Varón'\n",
    "DfTotalContCausSexo['SexoDescripcion'][DfTotalContCausSexo['Sexo'] == 6] = 'Mujer'"
   ]
  },
  {
   "cell_type": "code",
   "execution_count": 6,
   "metadata": {},
   "outputs": [],
   "source": [
    "DfTotalContCausSexo['ContaminanteN'] = pd.Categorical(DfTotalContCausSexo['Contaminante']).codes "
   ]
  },
  {
   "cell_type": "code",
   "execution_count": 7,
   "metadata": {},
   "outputs": [],
   "source": [
    "ListaContaminantes = DfTotalContCausSexo['Contaminante'].unique()"
   ]
  },
  {
   "cell_type": "code",
   "execution_count": 8,
   "metadata": {},
   "outputs": [],
   "source": [
    "def FContaminante(Contaminante):\n",
    "    Df1 = DfTotalContCausSexo[DfTotalContCausSexo['Contaminante'] == Contaminante]\n",
    "    sns.barplot(data=Df1, x='Descripcion', y='TotalDeaths', hue='SexoDescripcion')\n",
    "    sns.color_palette(\"RdBu\", n_colors=5)\n",
    "    plt.suptitle('Total Defunciones por Contaminante y Causa de Muerte año 2015') \n",
    "    plt.xlabel('Causas de Muerte') \n",
    "    plt.ylabel('Total Defunciones') \n",
    "    plt.xticks(rotation = 90)\n",
    "    plt.show()\n",
    "    "
   ]
  },
  {
   "cell_type": "code",
   "execution_count": 9,
   "metadata": {
    "scrolled": false
   },
   "outputs": [
    {
     "data": {
      "application/vnd.jupyter.widget-view+json": {
       "model_id": "df781aae519e4d1b9b8f8690ed5b0bb2",
       "version_major": 2,
       "version_minor": 0
      },
      "text/html": [
       "<p>Failed to display Jupyter Widget of type <code>interactive</code>.</p>\n",
       "<p>\n",
       "  If you're reading this message in the Jupyter Notebook or JupyterLab Notebook, it may mean\n",
       "  that the widgets JavaScript is still loading. If this message persists, it\n",
       "  likely means that the widgets JavaScript library is either not installed or\n",
       "  not enabled. See the <a href=\"https://ipywidgets.readthedocs.io/en/stable/user_install.html\">Jupyter\n",
       "  Widgets Documentation</a> for setup instructions.\n",
       "</p>\n",
       "<p>\n",
       "  If you're reading this message in another frontend (for example, a static\n",
       "  rendering on GitHub or <a href=\"https://nbviewer.jupyter.org/\">NBViewer</a>),\n",
       "  it may mean that your frontend doesn't currently support widgets.\n",
       "</p>\n"
      ],
      "text/plain": [
       "interactive(children=(Dropdown(description='Contaminante', options=('Dióxido de carbono (CO2)', 'Partículas (PM10)'), value='Dióxido de carbono (CO2)'), Output()), _dom_classes=('widget-interact',))"
      ]
     },
     "metadata": {},
     "output_type": "display_data"
    },
    {
     "data": {
      "text/plain": [
       "<function __main__.FContaminante>"
      ]
     },
     "execution_count": 9,
     "metadata": {},
     "output_type": "execute_result"
    }
   ],
   "source": [
    "interact(FContaminante,Contaminante = ListaContaminantes)"
   ]
  }
 ],
 "metadata": {
  "kernelspec": {
   "display_name": "Python 3",
   "language": "python",
   "name": "python3"
  },
  "language_info": {
   "codemirror_mode": {
    "name": "ipython",
    "version": 3
   },
   "file_extension": ".py",
   "mimetype": "text/x-python",
   "name": "python",
   "nbconvert_exporter": "python",
   "pygments_lexer": "ipython3",
   "version": "3.6.4"
  }
 },
 "nbformat": 4,
 "nbformat_minor": 2
}
